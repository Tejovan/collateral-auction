{
 "cells": [
  {
   "cell_type": "code",
   "execution_count": null,
   "metadata": {},
   "outputs": [],
   "source": [
    "class PracticeAuction:\n",
    "    def __init__(self, allocate_func, calculate_payments_func, position_effects,  sender_bids):\n",
    "        self.allocate_func = allocate_func\n",
    "        self.calculate_payments_func = calculate_payments_func\n",
    "        self.collateral_position_effects = position_effects\n",
    "        self.sender_bids = sender_bids\n",
    "\n",
    "    def run_auction(self):\n",
    "        sorted_bids = sorted(zip(self.bidders, self.bids), key=lambda x: x[1], reverse=True)\n",
    "        return sorted_bids\n",
    "\n",
    "# Example usage\n",
    "bidders = ['Alice', 'Bob', 'Charlie']\n",
    "bids = [100, 150, 120]\n",
    "auction = PracticeAuction(bidders, bids)\n",
    "results = auction.run_auction()\n",
    "print(results)"
   ]
  },
  {
   "cell_type": "code",
   "execution_count": null,
   "metadata": {},
   "outputs": [],
   "source": [
    "class CollateralPositionAuction:\n",
    "    def __init__(self, allocate_func, calculate_payments_func, set_collateral_audit_func, sender_behaviors_func, senders, position_effects):\n",
    "        self.allocate_func = allocate_func\n",
    "        self.calculate_payments_func = calculate_payments_func\n",
    "        self.set_collateral_audit_func = set_collateral_audit_func\n",
    "        self.sender_behaviors_func = sender_behaviors_func\n",
    "        self.senders = senders\n",
    "        self.position_effects = position_effects\n",
    "\n",
    "    def run_auction(self):\n",
    "        self.expected_liability_oracle = self.set_collateral_audit_func(self)\n",
    "        self.sender_reports = self.sender_behaviors_func(self)    \n",
    "        self.sender_allocations = self.allocate_func(self)\n",
    "        self.sender_payments = self.calculate_payments_func(self)\n",
    "        self.sender_expected_utilites = self.calculate_utilites(self)\n",
    "\n",
    "    def calculate_utilites(self):\n",
    "        sender_expected_utilites = {}\n",
    "        for sender in self.senders:\n",
    "            sender_expected_utilites[sender] = self.sender_reports[sender] - self.sender_payments[sender]\n",
    "        return sender_expected_utilites\n",
    "\n",
    "\n",
    "\n"
   ]
  },
  {
   "cell_type": "code",
   "execution_count": null,
   "metadata": {},
   "outputs": [],
   "source": [
    "\n",
    "class Mech5Montecarlo_ThresholdPayAndCollateral(CollateralPositionAuction):\n",
    "    def __init__(self, allocate_func, calculate_payments_func, sender_behaviors_func, sender_ids, expected_liability_form, position_effects, threshold):\n",
    "        super().__init__(allocate_func, calculate_payments_func, sender_behaviors_func, sender_ids, expected_liability_form, position_effects)\n",
    "        self.threshold = threshold\n",
    "\n",
    "    def run_auction(self):\n",
    "        sorted_bids = sorted(zip(self.bidders, self.bids), key=lambda x: x[1], reverse=True)\n",
    "        return sorted_bids"
   ]
  }
 ],
 "metadata": {
  "kernelspec": {
   "display_name": "Python 3",
   "language": "python",
   "name": "python3"
  },
  "language_info": {
   "name": "python",
   "version": "3.11.9"
  }
 },
 "nbformat": 4,
 "nbformat_minor": 2
}
